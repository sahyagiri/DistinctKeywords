{
 "cells": [
  {
   "cell_type": "code",
   "execution_count": 1,
   "metadata": {},
   "outputs": [],
   "source": [
    "from distinct_keywords.keywords import DistinctKeywords "
   ]
  },
  {
   "cell_type": "code",
   "execution_count": 2,
   "metadata": {},
   "outputs": [],
   "source": [
    "doc = \"\"\"\n",
    "         Supervised learning is the machine learning task of learning a function that\n",
    "         maps an input to an output based on example input-output pairs. It infers a\n",
    "         function from labeled training data consisting of a set of training examples.\n",
    "         In supervised learning, each example is a pair consisting of an input object\n",
    "         (typically a vector) and a desired output value (also called the supervisory signal). \n",
    "         A supervised learning algorithm analyzes the training data and produces an inferred function, \n",
    "         which can be used for mapping new examples. An optimal scenario will allow for the \n",
    "         algorithm to correctly determine the class labels for unseen instances. This requires \n",
    "         the learning algorithm to generalize from the training data to unseen situations in a \n",
    "         'reasonable' way (see inductive bias).\n",
    "      \"\"\"\n"
   ]
  },
  {
   "cell_type": "code",
   "execution_count": 3,
   "metadata": {},
   "outputs": [],
   "source": [
    "distinct_keywords=DistinctKeywords()"
   ]
  },
  {
   "cell_type": "code",
   "execution_count": 4,
   "metadata": {},
   "outputs": [
    {
     "data": {
      "text/plain": [
       "[['typically',\n",
       "  'unseen',\n",
       "  'supervised',\n",
       "  'called',\n",
       "  'the machine',\n",
       "  'vector',\n",
       "  'maps',\n",
       "  'bias',\n",
       "  'a function',\n",
       "  'mapping',\n",
       "  'examples',\n",
       "  'algorithm',\n",
       "  'inductive',\n",
       "  'learning',\n",
       "  'machine learning',\n",
       "  'scenario',\n",
       "  'based',\n",
       "  'training',\n",
       "  'task',\n",
       "  'reasonable',\n",
       "  ' Supervised learning',\n",
       "  'the training data',\n",
       "  'pairs',\n",
       "  'supervisory']]"
      ]
     },
     "execution_count": 4,
     "metadata": {},
     "output_type": "execute_result"
    }
   ],
   "source": [
    "distinct_keywords.get_keywords(doc,min_length=4)"
   ]
  },
  {
   "cell_type": "code",
   "execution_count": 5,
   "metadata": {},
   "outputs": [],
   "source": [
    "docs = [\"\"\"Supervised learning is the machine learning task of learning a function that\n",
    "         maps an input to an output based on example input-output pairs. It infers a\n",
    "         function from labeled training data consisting of a set of training examples.\n",
    "         In supervised learning, each example is a pair consisting of an input object\n",
    "         (typically a vector) and a desired output value (also called the supervisory signal). \n",
    "         A supervised learning algorithm analyzes the training data and produces an inferred function, \n",
    "         which can be used for mapping new examples. An optimal scenario will allow for the \n",
    "         algorithm to correctly determine the class labels for unseen instances. This requires \n",
    "         the learning algorithm to generalize from the training data to unseen situations in a \n",
    "         'reasonable' way (see inductive bias).\"\"\",\n",
    "         \"\"\"K-Nearest Neighbours is one of the most basic yet essential classification algorithms\n",
    "          in Machine Learning. It belongs to the supervised learning domain and finds intense application \n",
    "          in pattern recognition, data mining and intrusion detection. It is widely disposable in real-life \n",
    "          scenarios since it is non-parametric, meaning, it does not make any underlying assumptions about \n",
    "          the distribution of data (as opposed to other algorithms such as GMM, which assume a Gaussian \n",
    "          distribution of the given data).\"\"\"]"
   ]
  },
  {
   "cell_type": "code",
   "execution_count": 6,
   "metadata": {},
   "outputs": [
    {
     "data": {
      "text/plain": [
       "[['typically',\n",
       "  'unseen',\n",
       "  'supervised',\n",
       "  'called',\n",
       "  'the training data',\n",
       "  'the machine',\n",
       "  'vector',\n",
       "  'maps',\n",
       "  'bias',\n",
       "  'a function',\n",
       "  'mapping',\n",
       "  'examples',\n",
       "  'algorithm',\n",
       "  'inductive',\n",
       "  'learning',\n",
       "  'machine learning',\n",
       "  'scenario',\n",
       "  'based',\n",
       "  'training',\n",
       "  'task',\n",
       "  'reasonable',\n",
       "  'Supervised learning',\n",
       "  'pairs',\n",
       "  'supervisory'],\n",
       " ['meaning',\n",
       "  'supervised',\n",
       "  'opposed',\n",
       "  'intrusion',\n",
       "  'learning',\n",
       "  'data',\n",
       "  'K Nearest Neighbours',\n",
       "  'parametric',\n",
       "  'the most basic yet essential classification algorithms',\n",
       "  'pattern recognition',\n",
       "  'detection',\n",
       "  'the supervised learning domain',\n",
       "  'intense application',\n",
       "  'underlying',\n",
       "  'disposable',\n",
       "  'Machine Learning']]"
      ]
     },
     "execution_count": 6,
     "metadata": {},
     "output_type": "execute_result"
    }
   ],
   "source": [
    "distinct_keywords.get_keywords(docs, min_length=4)"
   ]
  },
  {
   "cell_type": "code",
   "execution_count": 7,
   "metadata": {},
   "outputs": [
    {
     "data": {
      "text/plain": [
       "'24098176703961584660'"
      ]
     },
     "execution_count": 7,
     "metadata": {},
     "output_type": "execute_result"
    }
   ],
   "source": [
    "distinct_keywords.hilbert_lookup_dictionary['april']"
   ]
  },
  {
   "cell_type": "code",
   "execution_count": 8,
   "metadata": {},
   "outputs": [
    {
     "data": {
      "text/plain": [
       "'24098176703961584661'"
      ]
     },
     "execution_count": 8,
     "metadata": {},
     "output_type": "execute_result"
    }
   ],
   "source": [
    "distinct_keywords.hilbert_lookup_dictionary['july']"
   ]
  },
  {
   "cell_type": "code",
   "execution_count": 9,
   "metadata": {},
   "outputs": [
    {
     "data": {
      "text/plain": [
       "'24098176695545132848'"
      ]
     },
     "execution_count": 9,
     "metadata": {},
     "output_type": "execute_result"
    }
   ],
   "source": [
    "distinct_keywords.hilbert_lookup_dictionary['january']"
   ]
  },
  {
   "cell_type": "code",
   "execution_count": 10,
   "metadata": {},
   "outputs": [
    {
     "data": {
      "text/plain": [
       "'10361698322165241623'"
      ]
     },
     "execution_count": 10,
     "metadata": {},
     "output_type": "execute_result"
    }
   ],
   "source": [
    "distinct_keywords.hilbert_lookup_dictionary['machine_learning']"
   ]
  },
  {
   "cell_type": "code",
   "execution_count": 11,
   "metadata": {},
   "outputs": [
    {
     "data": {
      "text/plain": [
       "'12050206188136005184'"
      ]
     },
     "execution_count": 11,
     "metadata": {},
     "output_type": "execute_result"
    }
   ],
   "source": [
    "distinct_keywords.hilbert_lookup_dictionary['mathematics']"
   ]
  },
  {
   "cell_type": "code",
   "execution_count": 12,
   "metadata": {},
   "outputs": [
    {
     "data": {
      "text/plain": [
       "'12062515252859527804'"
      ]
     },
     "execution_count": 12,
     "metadata": {},
     "output_type": "execute_result"
    }
   ],
   "source": [
    "distinct_keywords.hilbert_lookup_dictionary['deep_learning']"
   ]
  },
  {
   "cell_type": "code",
   "execution_count": null,
   "metadata": {},
   "outputs": [],
   "source": []
  }
 ],
 "metadata": {
  "interpreter": {
   "hash": "baebee85a6a5ce183746db7cbadba59f5359f85ffa5f21f19dadb99a211b8bb3"
  },
  "kernelspec": {
   "display_name": "Python 3.8.12 ('nlp-1')",
   "language": "python",
   "name": "python3"
  },
  "language_info": {
   "codemirror_mode": {
    "name": "ipython",
    "version": 3
   },
   "file_extension": ".py",
   "mimetype": "text/x-python",
   "name": "python",
   "nbconvert_exporter": "python",
   "pygments_lexer": "ipython3",
   "version": "3.8.10"
  },
  "orig_nbformat": 4
 },
 "nbformat": 4,
 "nbformat_minor": 2
}
